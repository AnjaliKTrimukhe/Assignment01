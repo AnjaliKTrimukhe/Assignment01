{
 "cells": [
  {
   "cell_type": "raw",
   "id": "93d223c9",
   "metadata": {},
   "source": [
    "1. In the below elements which of them are values or an expression? eg:- values can be integer or string and expressions will be mathematical operators.\n",
    "*         -> This is an expression.\n",
    "'hello'   -> This is String value.\n",
    "-87.8     -> This is Float Value.\n",
    "-         -> This is an expression.\n",
    "/         -> This is an expression.\n",
    "+\t      -> This is an expression.\n",
    "6         -> This is Integer value.\n"
   ]
  },
  {
   "cell_type": "raw",
   "id": "196c8c25",
   "metadata": {},
   "source": [
    "2. What is the difference between string and variable?\n",
    "Ans:  \n",
    "STRING: Anything we assign to a variable using quotes(single or double) will be considered as a string.\n",
    "Example:  a='10'\n",
    "VARIABLE: Variable is an identifier to store a value in a memory location and to manipulate it if needed.\n",
    "Example:  a=10\n",
    "Above example, we can say that a is a variable that stores the value 10."
   ]
  },
  {
   "cell_type": "raw",
   "id": "97a3a0be",
   "metadata": {},
   "source": [
    "3. Describe three different data types.\n",
    "Ans:  Data types:\n",
    "1.\tNumeric\n",
    "2.\tDictionary\n",
    "3.\tBoolean\n",
    "4.\tSet\n",
    "5.\tSequence Type"
   ]
  },
  {
   "cell_type": "raw",
   "id": "7977b5ff",
   "metadata": {},
   "source": [
    "4. What is an expression made up of? What do all expressions do?\n",
    "Ans:\n",
    "An expression is a combination of operators, constants and variables. An expression may consist of one or more operands, and zero or more operators to produce a value."
   ]
  },
  {
   "cell_type": "raw",
   "id": "244916dd",
   "metadata": {},
   "source": [
    "5. This assignment statements, like spam = 10. What is the difference between an expression and a statement?\n",
    "Ans:\n",
    " If we assign it to a variable, it’s an expression. If we can’t, it’s a statement.\n",
    "Ex: Expression : 2+4,3*4\n",
    "    Statement  : print 42"
   ]
  },
  {
   "cell_type": "code",
   "execution_count": null,
   "id": "ae59246a",
   "metadata": {},
   "outputs": [],
   "source": [
    "6. After running the following code, what does the variable bacon contain?\n",
    "bacon = 22\n",
    "bacon + 1\n",
    "Ans: 23"
   ]
  },
  {
   "cell_type": "raw",
   "id": "ec6065b6",
   "metadata": {},
   "source": [
    "7. What should the values of the following two terms be?\n",
    "'spam' + 'spamspam'\n",
    "'spam' * 3\n",
    "Ans: "
   ]
  },
  {
   "cell_type": "code",
   "execution_count": 3,
   "id": "098dc74e",
   "metadata": {},
   "outputs": [
    {
     "data": {
      "text/plain": [
       "'spamspamspam'"
      ]
     },
     "execution_count": 3,
     "metadata": {},
     "output_type": "execute_result"
    }
   ],
   "source": [
    "'spam' + 'spamspam'"
   ]
  },
  {
   "cell_type": "code",
   "execution_count": 4,
   "id": "966fc03b",
   "metadata": {},
   "outputs": [
    {
     "data": {
      "text/plain": [
       "'spamspamspam'"
      ]
     },
     "execution_count": 4,
     "metadata": {},
     "output_type": "execute_result"
    }
   ],
   "source": [
    "'spam' * 3"
   ]
  },
  {
   "cell_type": "raw",
   "id": "be957f60",
   "metadata": {},
   "source": [
    "8. Why is eggs a valid variable name while 100 is invalid?\n",
    "Ans: Because variable names cannot begin with a number."
   ]
  },
  {
   "cell_type": "raw",
   "id": "5ce781e8",
   "metadata": {},
   "source": [
    "9. What three functions can be used to get the integer, floating-point number, or string version of a value?\n",
    "Ans: int()\n",
    "     float()\n",
    "     str()  "
   ]
  },
  {
   "cell_type": "raw",
   "id": "243c6a35",
   "metadata": {},
   "source": [
    "10. Why does this expression cause an error? How can you fix it?\n",
    "'I have eaten ' + 99 + ' burritos.'\n",
    "Ans:   'I have eaten ' + '99'  + ' burritos.'\n",
    "Since 99 is integer we have to convert this into string."
   ]
  },
  {
   "cell_type": "code",
   "execution_count": 5,
   "id": "896a3bda",
   "metadata": {},
   "outputs": [
    {
     "data": {
      "text/plain": [
       "'I have eaten 99 burritos.'"
      ]
     },
     "execution_count": 5,
     "metadata": {},
     "output_type": "execute_result"
    }
   ],
   "source": [
    " 'I have eaten ' + '99'  + ' burritos.'"
   ]
  },
  {
   "cell_type": "code",
   "execution_count": null,
   "id": "ecf5b9db",
   "metadata": {},
   "outputs": [],
   "source": []
  }
 ],
 "metadata": {
  "kernelspec": {
   "display_name": "Python 3 (ipykernel)",
   "language": "python",
   "name": "python3"
  },
  "language_info": {
   "codemirror_mode": {
    "name": "ipython",
    "version": 3
   },
   "file_extension": ".py",
   "mimetype": "text/x-python",
   "name": "python",
   "nbconvert_exporter": "python",
   "pygments_lexer": "ipython3",
   "version": "3.9.7"
  }
 },
 "nbformat": 4,
 "nbformat_minor": 5
}
